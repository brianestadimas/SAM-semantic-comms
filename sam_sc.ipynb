{
 "cells": [
  {
   "cell_type": "code",
   "execution_count": 3,
   "metadata": {},
   "outputs": [],
   "source": [
    "from semantic_comms import calculate_psnr, train_semantic_communication_system, load_images, add_awgn_noise\n",
    "import torch\n",
    "import numpy as np\n",
    "from semantic_models.sc1 import SemanticEncoder, SemanticDecoder\n",
    "import matplotlib.pyplot as plt"
   ]
  },
  {
   "cell_type": "code",
   "execution_count": 6,
   "metadata": {},
   "outputs": [
    {
     "name": "stdout",
     "output_type": "stream",
     "text": [
      "0000.jpg\n"
     ]
    },
    {
     "ename": "error",
     "evalue": "OpenCV(4.7.0) /io/opencv/modules/imgproc/src/color.cpp:182: error: (-215:Assertion failed) !_src.empty() in function 'cvtColor'\n",
     "output_type": "error",
     "traceback": [
      "\u001b[0;31m---------------------------------------------------------------------------\u001b[0m",
      "\u001b[0;31merror\u001b[0m                                     Traceback (most recent call last)",
      "Cell \u001b[0;32mIn[6], line 10\u001b[0m\n\u001b[1;32m      7\u001b[0m \u001b[39mprint\u001b[39m(image_name)\n\u001b[1;32m      9\u001b[0m semantic_images \u001b[39m=\u001b[39m SemanticBased(image_name\u001b[39m=\u001b[39mimage_name, image_path\u001b[39m=\u001b[39mfolder_path)\n\u001b[0;32m---> 10\u001b[0m semantic_images\u001b[39m.\u001b[39;49mextract_images(color_image\u001b[39m=\u001b[39;49m\u001b[39mTrue\u001b[39;49;00m)\n",
      "File \u001b[0;32m~/Desktop/SAM-based Semantic/semantic_extractor.py:17\u001b[0m, in \u001b[0;36mSemanticBased.extract_images\u001b[0;34m(self, color_image)\u001b[0m\n\u001b[1;32m     15\u001b[0m \u001b[39mdef\u001b[39;00m \u001b[39mextract_images\u001b[39m(\u001b[39mself\u001b[39m, color_image\u001b[39m=\u001b[39m\u001b[39mFalse\u001b[39;00m):\n\u001b[1;32m     16\u001b[0m     empty_folder(DEFAULT_PATH)\n\u001b[0;32m---> 17\u001b[0m     sam_result, image_bgr \u001b[39m=\u001b[39m \u001b[39mself\u001b[39;49m\u001b[39m.\u001b[39;49msam_gen\u001b[39m.\u001b[39;49mget_masks_annotator(visualize\u001b[39m=\u001b[39;49m\u001b[39mFalse\u001b[39;49;00m)\n\u001b[1;32m     19\u001b[0m     background_mask \u001b[39m=\u001b[39m np\u001b[39m.\u001b[39mones_like(image_bgr, dtype\u001b[39m=\u001b[39m\u001b[39mbool\u001b[39m)\n\u001b[1;32m     20\u001b[0m     \u001b[39mfor\u001b[39;00m detection \u001b[39min\u001b[39;00m sam_result:\n",
      "File \u001b[0;32m~/Desktop/SAM-based Semantic/sam_fedforward.py:53\u001b[0m, in \u001b[0;36mSAMGenerator.get_masks_annotator\u001b[0;34m(self, visualize)\u001b[0m\n\u001b[1;32m     47\u001b[0m image_bgr \u001b[39m=\u001b[39m cv2\u001b[39m.\u001b[39mimread(\u001b[39mself\u001b[39m\u001b[39m.\u001b[39mIMAGE_PATH)\n\u001b[1;32m     49\u001b[0m \u001b[39m# # save image_bgr matrix as txt  file\u001b[39;00m\n\u001b[1;32m     50\u001b[0m \u001b[39m# # np.savetxt(\"image_bgr.txt\", image_bgr)\u001b[39;00m\n\u001b[1;32m     51\u001b[0m \u001b[39m# with open(\"image_bgr.txt\", \"w\") as f:\u001b[39;00m\n\u001b[1;32m     52\u001b[0m \u001b[39m#     f.write(str(image_bgr))\u001b[39;00m\n\u001b[0;32m---> 53\u001b[0m image_rgb \u001b[39m=\u001b[39m cv2\u001b[39m.\u001b[39;49mcvtColor(image_bgr, cv2\u001b[39m.\u001b[39;49mCOLOR_BGR2RGB)\n\u001b[1;32m     55\u001b[0m \u001b[39m# Generate the masks\u001b[39;00m\n\u001b[1;32m     56\u001b[0m mask_generator \u001b[39m=\u001b[39m SamAutomaticMaskGenerator(model\u001b[39m=\u001b[39msam,\n\u001b[1;32m     57\u001b[0m                                            points_per_side\u001b[39m=\u001b[39m\u001b[39m12\u001b[39m, \n\u001b[1;32m     58\u001b[0m                                            points_per_batch\u001b[39m=\u001b[39m\u001b[39m64\u001b[39m,\n\u001b[0;32m   (...)\u001b[0m\n\u001b[1;32m     65\u001b[0m                                            crop_overlap_ratio\u001b[39m=\u001b[39m\u001b[39m0.3413333333333333\u001b[39m,\n\u001b[1;32m     66\u001b[0m                                            crop_n_points_downscale_factor\u001b[39m=\u001b[39m\u001b[39m1\u001b[39m)\n",
      "\u001b[0;31merror\u001b[0m: OpenCV(4.7.0) /io/opencv/modules/imgproc/src/color.cpp:182: error: (-215:Assertion failed) !_src.empty() in function 'cvtColor'\n"
     ]
    }
   ],
   "source": [
    "from semantic_extractor import SemanticBased\n",
    "import os\n",
    "\n",
    "folder_path = \"output/original\"\n",
    "image_name = os.listdir(folder_path)[0]\n",
    "\n",
    "\n",
    "semantic_images = SemanticBased(image_name=image_name, image_path=os.path.join(folder_path, image_name))\n",
    "semantic_images.extract_images(color_image=True)"
   ]
  },
  {
   "cell_type": "code",
   "execution_count": 16,
   "metadata": {},
   "outputs": [],
   "source": [
    "torch.manual_seed(42)\n",
    "np.random.seed(42)\n",
    "\n",
    "# Images\n",
    "images = load_images(\"output/masks\")\n",
    "num_images = images.size(0)\n",
    "image_channels = images.size(1)\n",
    "image_height = images.size(2)\n",
    "image_width = images.size(3)\n",
    "\n",
    "# Reshape images tensor to fit the semantic encoder input shape\n",
    "images = images.view(num_images, image_channels, image_height, image_width)\n",
    "\n",
    "# Set the desired SNR and number of training epochs\n",
    "snr = 12  # dB\n",
    "num_epochs = 1500\n",
    "\n",
    "# Train the semantic communication system\n",
    "encoder_model = SemanticEncoder()\n",
    "decoder_model = SemanticDecoder()\n",
    "\n",
    "# encoder_model = SemanticEncoder2()\n",
    "# decoder_model = SemanticDecoder2()\n",
    "\n",
    "# encoder_model = SemanticEncoderTC()\n",
    "# decoder_model = SemanticDecoderTC()"
   ]
  },
  {
   "cell_type": "code",
   "execution_count": 17,
   "metadata": {},
   "outputs": [
    {
     "name": "stdout",
     "output_type": "stream",
     "text": [
      "Epoch: 10/1500, Loss: 0.4136052429676056\n",
      "Epoch: 20/1500, Loss: 0.28468599915504456\n",
      "Epoch: 30/1500, Loss: 0.19352425634860992\n",
      "Epoch: 40/1500, Loss: 0.12652172148227692\n",
      "Epoch: 50/1500, Loss: 0.07953385263681412\n",
      "Epoch: 60/1500, Loss: 0.04785289242863655\n",
      "Epoch: 70/1500, Loss: 0.027669094502925873\n",
      "Epoch: 80/1500, Loss: 0.015450232662260532\n",
      "Epoch: 90/1500, Loss: 0.008480524644255638\n",
      "Epoch: 100/1500, Loss: 0.004732176195830107\n",
      "Epoch: 110/1500, Loss: 0.0028258070815354586\n",
      "Epoch: 120/1500, Loss: 0.0018971521640196443\n",
      "Epoch: 130/1500, Loss: 0.0014354875311255455\n",
      "Epoch: 140/1500, Loss: 0.0012007391778752208\n",
      "Epoch: 150/1500, Loss: 0.0010605972493067384\n",
      "Epoch: 160/1500, Loss: 0.0009585267398506403\n",
      "Epoch: 170/1500, Loss: 0.0008743320940993726\n",
      "Epoch: 180/1500, Loss: 0.0008002268150448799\n",
      "Epoch: 190/1500, Loss: 0.0007349133375100791\n",
      "Epoch: 200/1500, Loss: 0.0007060624775476754\n",
      "Epoch: 210/1500, Loss: 0.0006230742437765002\n",
      "Epoch: 220/1500, Loss: 0.0005745140369981527\n",
      "Epoch: 230/1500, Loss: 0.0005297001334838569\n",
      "Epoch: 240/1500, Loss: 0.0004890693235211074\n",
      "Epoch: 250/1500, Loss: 0.0004561919195111841\n",
      "Epoch: 260/1500, Loss: 0.000423177145421505\n",
      "Epoch: 270/1500, Loss: 0.00039826901047490537\n",
      "Epoch: 280/1500, Loss: 0.0003626223187893629\n",
      "Epoch: 290/1500, Loss: 0.0003365344600751996\n",
      "Epoch: 300/1500, Loss: 0.00031338015105575323\n",
      "Epoch: 310/1500, Loss: 0.0002921056584455073\n",
      "Epoch: 320/1500, Loss: 0.000274973688647151\n",
      "Epoch: 330/1500, Loss: 0.0002853283367585391\n",
      "Epoch: 340/1500, Loss: 0.0002492064086254686\n",
      "Epoch: 350/1500, Loss: 0.00023812708968762308\n",
      "Epoch: 360/1500, Loss: 0.00021712204033974558\n",
      "Epoch: 370/1500, Loss: 0.00021909266069997102\n",
      "Epoch: 380/1500, Loss: 0.00020744174253195524\n",
      "Epoch: 390/1500, Loss: 0.00019641434482764453\n",
      "Epoch: 400/1500, Loss: 0.00018348440062254667\n",
      "Epoch: 410/1500, Loss: 0.00016724369197618216\n",
      "Epoch: 420/1500, Loss: 0.000156736234202981\n",
      "Epoch: 430/1500, Loss: 0.00014660111628472805\n",
      "Epoch: 440/1500, Loss: 0.00013845467765349895\n",
      "Epoch: 450/1500, Loss: 0.00013090040010865778\n",
      "Epoch: 460/1500, Loss: 0.0001492020528530702\n",
      "Epoch: 470/1500, Loss: 0.00013939676864538342\n",
      "Epoch: 480/1500, Loss: 0.00012628208787646145\n",
      "Epoch: 490/1500, Loss: 0.00011470596655271947\n",
      "Epoch: 500/1500, Loss: 0.00010486214159755036\n",
      "Epoch: 510/1500, Loss: 9.948062506737188e-05\n",
      "Epoch: 520/1500, Loss: 9.446172043681145e-05\n",
      "Epoch: 530/1500, Loss: 8.976818207884207e-05\n",
      "Epoch: 540/1500, Loss: 8.61468943185173e-05\n",
      "Epoch: 550/1500, Loss: 0.00017523585120216012\n",
      "Epoch: 560/1500, Loss: 9.960680472431704e-05\n",
      "Epoch: 570/1500, Loss: 8.09159319032915e-05\n",
      "Epoch: 580/1500, Loss: 7.764923066133633e-05\n",
      "Epoch: 590/1500, Loss: 7.070683204801753e-05\n",
      "Epoch: 600/1500, Loss: 6.79748336551711e-05\n",
      "Epoch: 610/1500, Loss: 6.451221270253882e-05\n",
      "Epoch: 620/1500, Loss: 6.191236025188118e-05\n",
      "Epoch: 630/1500, Loss: 5.924339347984642e-05\n",
      "Epoch: 640/1500, Loss: 5.863523983862251e-05\n",
      "Epoch: 650/1500, Loss: 0.0001493302552262321\n",
      "Epoch: 660/1500, Loss: 0.00013151412713341415\n",
      "Epoch: 670/1500, Loss: 7.32390908524394e-05\n",
      "Epoch: 680/1500, Loss: 6.020141881890595e-05\n",
      "Epoch: 690/1500, Loss: 5.5073269322747365e-05\n",
      "Epoch: 700/1500, Loss: 5.0716917030513287e-05\n",
      "Epoch: 710/1500, Loss: 4.817930675926618e-05\n",
      "Epoch: 720/1500, Loss: 4.617372542270459e-05\n",
      "Epoch: 730/1500, Loss: 4.4391712435754016e-05\n",
      "Epoch: 740/1500, Loss: 4.2798117647180334e-05\n",
      "Epoch: 750/1500, Loss: 4.136666757403873e-05\n",
      "Epoch: 760/1500, Loss: 4.0028422517934814e-05\n",
      "Epoch: 770/1500, Loss: 3.879586438415572e-05\n",
      "Epoch: 780/1500, Loss: 3.821796053671278e-05\n",
      "Epoch: 790/1500, Loss: 3.658356945379637e-05\n",
      "Epoch: 800/1500, Loss: 3.5537475923774764e-05\n",
      "Epoch: 810/1500, Loss: 3.449686846579425e-05\n",
      "Epoch: 820/1500, Loss: 3.356574961799197e-05\n",
      "Epoch: 830/1500, Loss: 3.2685769838280976e-05\n",
      "Epoch: 840/1500, Loss: 3.185009700246155e-05\n",
      "Epoch: 850/1500, Loss: 3.104463030467741e-05\n",
      "Epoch: 860/1500, Loss: 3.028759965673089e-05\n",
      "Epoch: 870/1500, Loss: 2.9600960260722786e-05\n",
      "Epoch: 880/1500, Loss: 2.9400083803921007e-05\n",
      "Epoch: 890/1500, Loss: 6.277976353885606e-05\n",
      "Epoch: 900/1500, Loss: 4.5771845179842785e-05\n",
      "Epoch: 910/1500, Loss: 3.1947140087140724e-05\n",
      "Epoch: 920/1500, Loss: 2.886512993427459e-05\n",
      "Epoch: 930/1500, Loss: 2.723386751313228e-05\n",
      "Epoch: 940/1500, Loss: 2.6052699467982166e-05\n",
      "Epoch: 950/1500, Loss: 2.5310664568678476e-05\n",
      "Epoch: 960/1500, Loss: 2.5195615307893604e-05\n",
      "Epoch: 970/1500, Loss: 4.263453229214065e-05\n",
      "Epoch: 980/1500, Loss: 2.9513388653867878e-05\n",
      "Epoch: 990/1500, Loss: 2.6545292712398805e-05\n",
      "Epoch: 1000/1500, Loss: 2.4609913452877663e-05\n",
      "Epoch: 1010/1500, Loss: 2.3055030396790244e-05\n",
      "Epoch: 1020/1500, Loss: 2.441739161440637e-05\n",
      "Epoch: 1030/1500, Loss: 8.186326158465818e-05\n",
      "Epoch: 1040/1500, Loss: 2.7845004296978004e-05\n",
      "Epoch: 1050/1500, Loss: 2.5119779820670374e-05\n",
      "Epoch: 1060/1500, Loss: 2.3636332116439007e-05\n",
      "Epoch: 1070/1500, Loss: 2.1561887479037978e-05\n",
      "Epoch: 1080/1500, Loss: 2.0831013898714446e-05\n",
      "Epoch: 1090/1500, Loss: 2.042655978584662e-05\n",
      "Epoch: 1100/1500, Loss: 2.017359838646371e-05\n",
      "Epoch: 1110/1500, Loss: 1.9832184989354573e-05\n",
      "Epoch: 1120/1500, Loss: 1.9778703062911518e-05\n",
      "Epoch: 1130/1500, Loss: 3.8423240766860545e-05\n",
      "Epoch: 1140/1500, Loss: 2.3421291189151816e-05\n",
      "Epoch: 1150/1500, Loss: 2.6043046091217548e-05\n",
      "Epoch: 1160/1500, Loss: 2.0523948478512466e-05\n",
      "Epoch: 1170/1500, Loss: 1.8942379028885625e-05\n",
      "Epoch: 1180/1500, Loss: 1.8740212908596732e-05\n",
      "Epoch: 1190/1500, Loss: 1.8239939890918322e-05\n",
      "Epoch: 1200/1500, Loss: 1.8028758859145455e-05\n",
      "Epoch: 1210/1500, Loss: 2.0435842088772915e-05\n",
      "Epoch: 1220/1500, Loss: 0.00015514162078034133\n",
      "Epoch: 1230/1500, Loss: 2.2700585759594105e-05\n",
      "Epoch: 1240/1500, Loss: 2.0708253941847943e-05\n",
      "Epoch: 1250/1500, Loss: 1.897395122796297e-05\n",
      "Epoch: 1260/1500, Loss: 1.7873962860903703e-05\n",
      "Epoch: 1270/1500, Loss: 1.7534201106172986e-05\n",
      "Epoch: 1280/1500, Loss: 1.7271164324483834e-05\n",
      "Epoch: 1290/1500, Loss: 1.6919870176934637e-05\n",
      "Epoch: 1300/1500, Loss: 1.6750609574955888e-05\n",
      "Epoch: 1310/1500, Loss: 1.6567768398090266e-05\n",
      "Epoch: 1320/1500, Loss: 1.6411597243859433e-05\n",
      "Epoch: 1330/1500, Loss: 1.626710763957817e-05\n",
      "Epoch: 1340/1500, Loss: 1.613003587408457e-05\n",
      "Epoch: 1350/1500, Loss: 1.600011637492571e-05\n",
      "Epoch: 1360/1500, Loss: 1.587609040143434e-05\n",
      "Epoch: 1370/1500, Loss: 1.575738497194834e-05\n",
      "Epoch: 1380/1500, Loss: 1.5643638107576407e-05\n",
      "Epoch: 1390/1500, Loss: 1.5540119420620613e-05\n",
      "Epoch: 1400/1500, Loss: 1.556858842377551e-05\n",
      "Epoch: 1410/1500, Loss: 1.63087770488346e-05\n",
      "Epoch: 1420/1500, Loss: 5.7650224334793165e-05\n",
      "Epoch: 1430/1500, Loss: 2.0945590222254395e-05\n",
      "Epoch: 1440/1500, Loss: 1.7534282960696146e-05\n",
      "Epoch: 1450/1500, Loss: 1.673879160080105e-05\n",
      "Epoch: 1460/1500, Loss: 1.5777122825966217e-05\n",
      "Epoch: 1470/1500, Loss: 1.5297880963771604e-05\n",
      "Epoch: 1480/1500, Loss: 1.4915777683199849e-05\n",
      "Epoch: 1490/1500, Loss: 1.484055883338442e-05\n",
      "Epoch: 1500/1500, Loss: 1.4712724805576727e-05\n"
     ]
    }
   ],
   "source": [
    "encoder, decoder = train_semantic_communication_system(encoder_model, decoder_model, images, snr, num_epochs)"
   ]
  },
  {
   "cell_type": "code",
   "execution_count": 18,
   "metadata": {},
   "outputs": [
    {
     "name": "stdout",
     "output_type": "stream",
     "text": [
      "torch.Size([4, 3, 32, 32])\n",
      "torch.Size([4, 32, 8, 8])\n",
      "torch.Size([4, 3, 32, 32])\n",
      "PSNR over AWGN channel: 28.646270751953125 dB\n"
     ]
    }
   ],
   "source": [
    "\n",
    "# Calculate SNR\n",
    "encoder_images = encoder(images)\n",
    "noisy_images = add_awgn_noise(encoder_images, snr)\n",
    "restored_images = decoder(noisy_images)\n",
    "theta = 1.0\n",
    "\n",
    "psnr = calculate_psnr(images, restored_images, restored_images, theta)\n",
    "\n",
    "\n",
    "print(images.shape)\n",
    "print(encoder_images.shape)\n",
    "print(restored_images.shape)\n",
    "print(f\"PSNR over AWGN channel: {psnr.item()} dB\")"
   ]
  },
  {
   "cell_type": "code",
   "execution_count": 19,
   "metadata": {},
   "outputs": [
    {
     "data": {
      "image/png": "[encoded data removed]",
      "text/plain": [
       "<Figure size 1000x1000 with 3 Axes>"
      ]
     },
     "metadata": {},
     "output_type": "display_data"
    }
   ],
   "source": [
    "#plotting\n",
    "plt.figure(figsize=(10, 10))\n",
    "plt.subplot(1, 3, 1)\n",
    "im = images.detach().numpy()\n",
    "im = np.sum(im, axis=0)\n",
    "plt.imshow(im[0, :, :], cmap=\"gray\")\n",
    "plt.title(\"Original Image\")\n",
    "plt.subplot(1, 3, 2)\n",
    "ns= noisy_images.detach().numpy()\n",
    "ns = np.sum(ns, axis=0)\n",
    "plt.imshow(ns[0, :, :], cmap=\"gray\")\n",
    "plt.title(\"Noisy Image\")\n",
    "plt.subplot(1, 3, 3)\n",
    "rs= restored_images.detach().numpy()\n",
    "#sum rs on axis 0 and 1\n",
    "rs = np.sum(rs, axis=0)\n",
    "plt.imshow(rs[0, :, :], cmap=\"gray\")\n",
    "plt.title(\"Restored Image\")\n",
    "plt.show()"
   ]
  },
  {
   "cell_type": "code",
   "execution_count": 20,
   "metadata": {},
   "outputs": [],
   "source": [
    "import requests\n",
    "\n",
    "def download_image(url, filename):\n",
    "    response = requests.get(url)\n",
    "    with open(filename, 'wb') as file:\n",
    "        file.write(response.content)\n"
   ]
  },
  {
   "cell_type": "code",
   "execution_count": 29,
   "metadata": {},
   "outputs": [
    {
     "name": "stderr",
     "output_type": "stream",
     "text": [
      "/tmp/ipykernel_38186/656525534.py:14: DeprecationWarning: Starting with ImageIO v3 the behavior of this function will switch to that of iio.v3.imread. To keep the current behavior (and make this warning disappear) use `import imageio.v2 as imageio` or call `imageio.v2.imread` directly.\n",
      "  image = imageio.imread(\"https://upload.wikimedia.org/wikipedia/commons/thumb/3/3a/Cat03.jpg/1200px-Cat03.jpg\")\n"
     ]
    }
   ],
   "source": [
    "from compressai.zoo import cheng2020_anchor\n",
    "\n",
    "model = cheng2020_anchor(quality=6, pretrained=True).eval()\n",
    "\n",
    "#download a sample image\n",
    "import imageio\n",
    "from skimage.transform import resize\n",
    "from skimage import img_as_ubyte\n",
    "from skimage.color import rgb2ycbcr, ycbcr2rgb\n",
    "from skimage.metrics import peak_signal_noise_ratio as psnr\n",
    "from skimage.metrics import structural_similarity as ssim\n",
    "import requests\n",
    "#download a sample image\n",
    "image = imageio.imread(\"https://upload.wikimedia.org/wikipedia/commons/thumb/3/3a/Cat03.jpg/1200px-Cat03.jpg\")\n",
    "image = resize(image, (256, 256), anti_aliasing=True)\n",
    "\n",
    "#convert to tensor\n",
    "image = torch.from_numpy(image).permute(2, 0, 1).float().unsqueeze(0)\n",
    "\n",
    "#compress and decompress\n",
    "compressed_image = model.compress(image)\n",
    "\n",
    "#decompress\n",
    "reconstructed_image = model.decompress(compressed_image[\"strings\"], compressed_image[\"shape\"])"
   ]
  },
  {
   "cell_type": "code",
   "execution_count": 26,
   "metadata": {},
   "outputs": [],
   "source": [
    "recon = reconstructed_image['x_hat'].squeeze(0).permute(1, 2, 0).detach().numpy()\n",
    "im  = image.squeeze(0).permute(1, 2, 0).detach().numpy()"
   ]
  },
  {
   "cell_type": "code",
   "execution_count": 27,
   "metadata": {},
   "outputs": [],
   "source": [
    "psnr = psnr(im, recon)"
   ]
  },
  {
   "cell_type": "code",
   "execution_count": 28,
   "metadata": {},
   "outputs": [
    {
     "name": "stdout",
     "output_type": "stream",
     "text": [
      "PSNR: 30.471833165082515 dB\n"
     ]
    }
   ],
   "source": [
    "print(f\"PSNR: {psnr} dB\")"
   ]
  },
  {
   "cell_type": "code",
   "execution_count": null,
   "metadata": {},
   "outputs": [],
   "source": []
  }
 ],
 "metadata": {
  "kernelspec": {
   "display_name": "base",
   "language": "python",
   "name": "python3"
  },
  "language_info": {
   "codemirror_mode": {
    "name": "ipython",
    "version": 3
   },
   "file_extension": ".py",
   "mimetype": "text/x-python",
   "name": "python",
   "nbconvert_exporter": "python",
   "pygments_lexer": "ipython3",
   "version": "3.11.3"
  },
  "orig_nbformat": 4
 },
 "nbformat": 4,
 "nbformat_minor": 2
}
