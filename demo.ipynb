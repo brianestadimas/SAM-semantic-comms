{
 "cells": [
  {
   "cell_type": "code",
   "execution_count": 1,
   "metadata": {},
   "outputs": [],
   "source": [
    "from semantic_comms import calculate_psnr, train_semantic_communication_system, load_images, add_awgn_noise\n",
    "import torch\n",
    "import numpy as np\n",
    "from semantic_models.sc1 import SemanticEncoder, SemanticDecoder\n",
    "from semantic_models.sc2 import SemanticEncoder2, SemanticDecoder2\n",
    "from semantic_models.tc import SemanticEncoderTC, SemanticDecoderTC\n",
    "import matplotlib.pyplot as plt"
   ]
  },
  {
   "cell_type": "code",
   "execution_count": 26,
   "metadata": {},
   "outputs": [],
   "source": [
    "np.random.seed(42)\n",
    "\n",
    "# Images\n",
    "images = load_images(\"output/masks\")\n",
    "num_images = images.size(0)\n",
    "image_channels = images.size(1)\n",
    "image_height = images.size(2)\n",
    "image_width = images.size(3)\n",
    "\n",
    "# Reshape images tensor to fit the semantic encoder input shape\n",
    "images = images.view(num_images, image_channels, image_height, image_width)\n",
    "\n",
    "# Set the desired SNR and number of training epochs\n",
    "snr = 20  # dB\n",
    "num_epochs = 1500\n",
    "\n",
    "# Train the semantic communication system\n",
    "encoder_model = SemanticEncoder()\n",
    "decoder_model = SemanticDecoder()\n",
    "\n",
    "# encoder_model = SemanticEncoder2()\n",
    "# decoder_model = SemanticDecoder2()\n",
    "\n",
    "# encoder_model = SemanticEncoderTC()\n",
    "# decoder_model = SemanticDecoderTC()"
   ]
  },
  {
   "cell_type": "code",
   "execution_count": null,
   "metadata": {},
   "outputs": [],
   "source": [
    "encoder, decoder = train_semantic_communication_system(encoder_model, decoder_model, images, snr, num_epochs)"
   ]
  },
  {
   "cell_type": "code",
   "execution_count": 57,
   "metadata": {},
   "outputs": [
    {
     "name": "stdout",
     "output_type": "stream",
     "text": [
      "torch.Size([5, 3, 32, 32])\n",
      "torch.Size([5, 32, 8, 8])\n",
      "torch.Size([5, 3, 32, 32])\n",
      "PSNR over AWGN channel: 29.985151290893555 dB\n"
     ]
    }
   ],
   "source": [
    "\n",
    "snr = 20  # dB\n",
    "\n",
    "# Calculate SNR\n",
    "encoder_images = encoder(images)\n",
    "noisy_images = add_awgn_noise(encoder_images, snr)\n",
    "restored_images = decoder(noisy_images)\n",
    "theta = 1.0\n",
    "\n",
    "psnr = calculate_psnr(images, restored_images, restored_images, theta)\n",
    "\n",
    "\n",
    "print(images.shape)\n",
    "print(encoder_images.shape)\n",
    "print(restored_images.shape)\n",
    "print(f\"PSNR over AWGN channel: {psnr.item()} dB\")"
   ]
  },
  {
   "cell_type": "code",
   "execution_count": 65,
   "metadata": {},
   "outputs": [
    {
     "data": {
      "image/png": "[encoded data removed]",
      "text/plain": [
       "<Figure size 720x720 with 3 Axes>"
      ]
     },
     "metadata": {
      "needs_background": "light"
     },
     "output_type": "display_data"
    }
   ],
   "source": [
    "#plotting\n",
    "plt.figure(figsize=(10, 10))\n",
    "plt.subplot(1, 3, 1)\n",
    "im = images.detach().numpy()\n",
    "im = np.sum(im, axis=0)\n",
    "plt.imshow(im[0, :, :], cmap=\"gray\")\n",
    "plt.title(\"Original Image\")\n",
    "plt.subplot(1, 3, 2)\n",
    "ns= noisy_images.detach().numpy()\n",
    "ns = np.sum(ns, axis=0)\n",
    "plt.imshow(ns[0, :, :], cmap=\"gray\")\n",
    "plt.title(\"Noisy Image\")\n",
    "plt.subplot(1, 3, 3)\n",
    "rs= restored_images.detach().numpy()\n",
    "#sum rs on axis 0 and 1\n",
    "rs = np.sum(rs, axis=0)\n",
    "plt.imshow(rs[0, :, :], cmap=\"gray\")\n",
    "plt.title(\"Restored Image\")\n",
    "plt.show()"
   ]
  },
  {
   "cell_type": "code",
   "execution_count": 75,
   "metadata": {},
   "outputs": [],
   "source": [
    "def download_image(url, filename):\n",
    "    response = requests.get(url)\n",
    "    with open(filename, 'wb') as file:\n",
    "        file.write(response.content)\n"
   ]
  },
  {
   "cell_type": "code",
   "execution_count": 110,
   "metadata": {},
   "outputs": [
    {
     "ename": "TypeError",
     "evalue": "square(): argument 'input' (position 1) must be Tensor, not list",
     "output_type": "error",
     "traceback": [
      "\u001b[0;31m---------------------------------------------------------------------------\u001b[0m",
      "\u001b[0;31mTypeError\u001b[0m                                 Traceback (most recent call last)",
      "\u001b[0;32m/tmp/ipykernel_3867652/2336131055.py\u001b[0m in \u001b[0;36m<module>\u001b[0;34m\u001b[0m\n\u001b[1;32m     20\u001b[0m \u001b[0;31m#compress and decompress\u001b[0m\u001b[0;34m\u001b[0m\u001b[0;34m\u001b[0m\u001b[0m\n\u001b[1;32m     21\u001b[0m \u001b[0mcompressed_image\u001b[0m \u001b[0;34m=\u001b[0m \u001b[0mmodel\u001b[0m\u001b[0;34m.\u001b[0m\u001b[0mcompress\u001b[0m\u001b[0;34m(\u001b[0m\u001b[0mimage\u001b[0m\u001b[0;34m)\u001b[0m\u001b[0;34m\u001b[0m\u001b[0;34m\u001b[0m\u001b[0m\n\u001b[0;32m---> 22\u001b[0;31m \u001b[0mnoise_image\u001b[0m \u001b[0;34m=\u001b[0m \u001b[0madd_awgn_noise\u001b[0m\u001b[0;34m(\u001b[0m\u001b[0mcompressed_image\u001b[0m\u001b[0;34m[\u001b[0m\u001b[0;34m\"strings\"\u001b[0m\u001b[0;34m]\u001b[0m\u001b[0;34m,\u001b[0m \u001b[0msnr\u001b[0m\u001b[0;34m)\u001b[0m\u001b[0;34m\u001b[0m\u001b[0;34m\u001b[0m\u001b[0m\n\u001b[0m\u001b[1;32m     23\u001b[0m \u001b[0;31m#decompress\u001b[0m\u001b[0;34m\u001b[0m\u001b[0;34m\u001b[0m\u001b[0m\n\u001b[1;32m     24\u001b[0m \u001b[0mreconstructed_image\u001b[0m \u001b[0;34m=\u001b[0m \u001b[0mmodel\u001b[0m\u001b[0;34m.\u001b[0m\u001b[0mdecompress\u001b[0m\u001b[0;34m(\u001b[0m\u001b[0mcompressed_image\u001b[0m\u001b[0;34m[\u001b[0m\u001b[0;34m\"strings\"\u001b[0m\u001b[0;34m]\u001b[0m\u001b[0;34m,\u001b[0m \u001b[0mcompressed_image\u001b[0m\u001b[0;34m[\u001b[0m\u001b[0;34m\"shape\"\u001b[0m\u001b[0;34m]\u001b[0m\u001b[0;34m)\u001b[0m\u001b[0;34m\u001b[0m\u001b[0;34m\u001b[0m\u001b[0m\n",
      "\u001b[0;32m~/Projects/GitHub/sam-semantic-communication/semantic_comms.py\u001b[0m in \u001b[0;36madd_awgn_noise\u001b[0;34m(signal, snr)\u001b[0m\n\u001b[1;32m     11\u001b[0m \u001b[0;31m# Define AWGN channel\u001b[0m\u001b[0;34m\u001b[0m\u001b[0;34m\u001b[0m\u001b[0m\n\u001b[1;32m     12\u001b[0m \u001b[0;32mdef\u001b[0m \u001b[0madd_awgn_noise\u001b[0m\u001b[0;34m(\u001b[0m\u001b[0msignal\u001b[0m\u001b[0;34m,\u001b[0m \u001b[0msnr\u001b[0m\u001b[0;34m)\u001b[0m\u001b[0;34m:\u001b[0m\u001b[0;34m\u001b[0m\u001b[0;34m\u001b[0m\u001b[0m\n\u001b[0;32m---> 13\u001b[0;31m     \u001b[0msignal_power\u001b[0m \u001b[0;34m=\u001b[0m \u001b[0mtorch\u001b[0m\u001b[0;34m.\u001b[0m\u001b[0mmean\u001b[0m\u001b[0;34m(\u001b[0m\u001b[0mtorch\u001b[0m\u001b[0;34m.\u001b[0m\u001b[0msquare\u001b[0m\u001b[0;34m(\u001b[0m\u001b[0msignal\u001b[0m\u001b[0;34m)\u001b[0m\u001b[0;34m)\u001b[0m\u001b[0;34m\u001b[0m\u001b[0;34m\u001b[0m\u001b[0m\n\u001b[0m\u001b[1;32m     14\u001b[0m     \u001b[0mnoise_power\u001b[0m \u001b[0;34m=\u001b[0m \u001b[0msignal_power\u001b[0m \u001b[0;34m/\u001b[0m \u001b[0msnr\u001b[0m\u001b[0;34m\u001b[0m\u001b[0;34m\u001b[0m\u001b[0m\n\u001b[1;32m     15\u001b[0m \u001b[0;34m\u001b[0m\u001b[0m\n",
      "\u001b[0;31mTypeError\u001b[0m: square(): argument 'input' (position 1) must be Tensor, not list"
     ]
    }
   ],
   "source": [
    "from compressai.zoo import cheng2020_anchor\n",
    "\n",
    "model = cheng2020_anchor(quality=6, pretrained=True).eval()\n",
    "\n",
    "#download a sample image\n",
    "import imageio\n",
    "from skimage.transform import resize\n",
    "from skimage import img_as_ubyte\n",
    "from skimage.color import rgb2ycbcr, ycbcr2rgb\n",
    "from skimage.metrics import peak_signal_noise_ratio as psnr\n",
    "from skimage.metrics import structural_similarity as ssim\n",
    "import requests\n",
    "#download a sample image\n",
    "image = imageio.imread(\"https://upload.wikimedia.org/wikipedia/commons/thumb/3/3a/Cat03.jpg/1200px-Cat03.jpg\")\n",
    "image = resize(image, (256, 256), anti_aliasing=True)\n",
    "\n",
    "#convert to tensor\n",
    "image = torch.from_numpy(image).permute(2, 0, 1).float().unsqueeze(0)\n",
    "\n",
    "#compress and decompress\n",
    "compressed_image = model.compress(image)\n",
    "\n",
    "#decompress\n",
    "reconstructed_image = model.decompress(compressed_image[\"strings\"], compressed_image[\"shape\"])"
   ]
  },
  {
   "cell_type": "code",
   "execution_count": 107,
   "metadata": {},
   "outputs": [],
   "source": [
    "recon = reconstructed_image['x_hat'].squeeze(0).permute(1, 2, 0).detach().numpy()\n",
    "im  = image.squeeze(0).permute(1, 2, 0).detach().numpy()"
   ]
  },
  {
   "cell_type": "code",
   "execution_count": 108,
   "metadata": {},
   "outputs": [],
   "source": [
    "psnr = psnr(im, recon)"
   ]
  },
  {
   "cell_type": "code",
   "execution_count": 109,
   "metadata": {},
   "outputs": [
    {
     "name": "stdout",
     "output_type": "stream",
     "text": [
      "PSNR: 38.35392643635525 dB\n"
     ]
    }
   ],
   "source": [
    "print(f\"PSNR: {psnr} dB\")"
   ]
  },
  {
   "cell_type": "code",
   "execution_count": null,
   "metadata": {},
   "outputs": [],
   "source": []
  }
 ],
 "metadata": {
  "kernelspec": {
   "display_name": "base",
   "language": "python",
   "name": "python3"
  },
  "language_info": {
   "codemirror_mode": {
    "name": "ipython",
    "version": 3
   },
   "file_extension": ".py",
   "mimetype": "text/x-python",
   "name": "python",
   "nbconvert_exporter": "python",
   "pygments_lexer": "ipython3",
   "version": "3.9.7"
  },
  "orig_nbformat": 4
 },
 "nbformat": 4,
 "nbformat_minor": 2
}
